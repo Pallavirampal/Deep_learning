{
  "nbformat": 4,
  "nbformat_minor": 0,
  "metadata": {
    "colab": {
      "name": "CNN_mnist.ipynb",
      "provenance": [],
      "authorship_tag": "ABX9TyOZiyKfmmhWN0Mfar+3DsGj",
      "include_colab_link": true
    },
    "kernelspec": {
      "name": "python3",
      "display_name": "Python 3"
    },
    "language_info": {
      "name": "python"
    }
  },
  "cells": [
    {
      "cell_type": "markdown",
      "metadata": {
        "id": "view-in-github",
        "colab_type": "text"
      },
      "source": [
        "<a href=\"https://colab.research.google.com/github/Pallavirampal/Deep_learning/blob/main/CNN_mnist.ipynb\" target=\"_parent\"><img src=\"https://colab.research.google.com/assets/colab-badge.svg\" alt=\"Open In Colab\"/></a>"
      ]
    },
    {
      "cell_type": "code",
      "execution_count": 7,
      "metadata": {
        "id": "WdNI_Piwl1-t"
      },
      "outputs": [],
      "source": [
        "import numpy as np\n",
        "import pandas as pd\n",
        "import matplotlib.pyplot as plt\n",
        "import tensorflow as tf"
      ]
    },
    {
      "cell_type": "code",
      "source": [
        "mnist = tf.keras.datasets.mnist\n",
        "(X_train, train_labels), (X_test, test_labels) = mnist.load_data()\n",
        "print(\"X_train.shape:\",X_train.shape)\n",
        "print(\"X_test.shape: \",X_test.shape)\n",
        "first_img = X_train[0]\n",
        "# uncomment this line to see the pixel values\n",
        "#print(first_img)\n",
        "plt.imshow(first_img, cmap='gray')\n",
        "plt.show()\n"
      ],
      "metadata": {
        "colab": {
          "base_uri": "https://localhost:8080/",
          "height": 300
        },
        "id": "ROPqR9TPILN6",
        "outputId": "afbff605-db0b-440e-c5f6-f236ecf2107b"
      },
      "execution_count": 8,
      "outputs": [
        {
          "output_type": "stream",
          "name": "stdout",
          "text": [
            "X_train.shape: (60000, 28, 28)\n",
            "X_test.shape:  (10000, 28, 28)\n"
          ]
        },
        {
          "output_type": "display_data",
          "data": {
            "text/plain": [
              "<Figure size 432x288 with 1 Axes>"
            ],
            "image/png": "[encoded data removed]"
          },
          "metadata": {
            "needs_background": "light"
          }
        }
      ]
    },
    {
      "cell_type": "code",
      "source": [
        "train_images = X_train.reshape((60000, 28, 28,1))  # to match the input shape of the neural network.60000 images each of size 28X28 and 1 colour channel\n",
        "test_images = X_test.reshape((10000, 28, 28, 1))\n",
        "# Normalize pixel values: from the range 0-255 to the range 0-1\n",
        "train_images, test_images = train_images/255.0,test_images/255.0\n",
        "model = tf.keras.models.Sequential()\n",
        "model.add(tf.keras.layers.Conv2D(16, (3, 3),activation='relu', input_shape=(28, 28, 1)))\n",
        "model.add(tf.keras.layers.MaxPooling2D((2, 2)))\n",
        "model.add(tf.keras.layers.Conv2D(32, (3, 3),activation='relu'))\n",
        "model.add(tf.keras.layers.MaxPooling2D((2, 2)))\n",
        "model.add(tf.keras.layers.Conv2D(64, (3, 3),activation='relu'))\n",
        "model.add(tf.keras.layers.Flatten())\n",
        "model.add(tf.keras.layers.Dense(64,activation='relu'))\n",
        "model.add(tf.keras.layers.Dense(10, activation='softmax'))\n",
        "model.summary()\n"
      ],
      "metadata": {
        "colab": {
          "base_uri": "https://localhost:8080/"
        },
        "id": "gEBlf4ouITaZ",
        "outputId": "719b1c75-c3b1-4d13-96ef-78c58a0016e7"
      },
      "execution_count": 9,
      "outputs": [
        {
          "output_type": "stream",
          "name": "stdout",
          "text": [
            "Model: \"sequential_1\"\n",
            "_________________________________________________________________\n",
            " Layer (type)                Output Shape              Param #   \n",
            "=================================================================\n",
            " conv2d_3 (Conv2D)           (None, 26, 26, 16)        160       \n",
            "                                                                 \n",
            " max_pooling2d_2 (MaxPooling  (None, 13, 13, 16)       0         \n",
            " 2D)                                                             \n",
            "                                                                 \n",
            " conv2d_4 (Conv2D)           (None, 11, 11, 32)        4640      \n",
            "                                                                 \n",
            " max_pooling2d_3 (MaxPooling  (None, 5, 5, 32)         0         \n",
            " 2D)                                                             \n",
            "                                                                 \n",
            " conv2d_5 (Conv2D)           (None, 3, 3, 64)          18496     \n",
            "                                                                 \n",
            " flatten_1 (Flatten)         (None, 576)               0         \n",
            "                                                                 \n",
            " dense_2 (Dense)             (None, 64)                36928     \n",
            "                                                                 \n",
            " dense_3 (Dense)             (None, 10)                650       \n",
            "                                                                 \n",
            "=================================================================\n",
            "Total params: 60,874\n",
            "Trainable params: 60,874\n",
            "Non-trainable params: 0\n",
            "_________________________________________________________________\n"
          ]
        }
      ]
    },
    {
      "cell_type": "code",
      "source": [
        "model.compile(optimizer='adam', loss='sparse_categorical_crossentropy', metrics=['accuracy'])\n",
        "model.fit(train_images, train_labels, epochs=1)\n"
      ],
      "metadata": {
        "colab": {
          "base_uri": "https://localhost:8080/"
        },
        "id": "6T2UQG0dIdYu",
        "outputId": "fd1ced94-0558-4f6e-f499-2b36c509a714"
      },
      "execution_count": 10,
      "outputs": [
        {
          "output_type": "stream",
          "name": "stdout",
          "text": [
            "1875/1875 [==============================] - 36s 19ms/step - loss: 0.1585 - accuracy: 0.9504\n"
          ]
        },
        {
          "output_type": "execute_result",
          "data": {
            "text/plain": [
              "<keras.callbacks.History at 0x7fc882c5c150>"
            ]
          },
          "metadata": {},
          "execution_count": 10
        }
      ]
    },
    {
      "cell_type": "code",
      "source": [
        "test_loss, test_acc = model.evaluate(test_images, test_labels)\n",
        "print(test_acc)\n",
        "# predict the label of one image\n",
        "test_image = np.expand_dims(test_images[300], axis = 0)\n",
        "plt.imshow(test_image.reshape(28,28))\n",
        "plt.show()\n",
        "\n"
      ],
      "metadata": {
        "colab": {
          "base_uri": "https://localhost:8080/",
          "height": 300
        },
        "id": "DKseSFkHIhZY",
        "outputId": "0b323441-bf1e-428c-8752-8d36202fb50d"
      },
      "execution_count": 12,
      "outputs": [
        {
          "output_type": "stream",
          "name": "stdout",
          "text": [
            "313/313 [==============================] - 2s 7ms/step - loss: 0.0462 - accuracy: 0.9845\n",
            "0.984499990940094\n"
          ]
        },
        {
          "output_type": "display_data",
          "data": {
            "text/plain": [
              "<Figure size 432x288 with 1 Axes>"
            ],
            "image/png": "[encoded data removed]"
          },
          "metadata": {
            "needs_background": "light"
          }
        }
      ]
    },
    {
      "cell_type": "code",
      "source": [
        "result=model.predict(test_images)\n",
        "result"
      ],
      "metadata": {
        "colab": {
          "base_uri": "https://localhost:8080/"
        },
        "id": "1kqbBK6WIlGE",
        "outputId": "d17cff71-0568-42ad-e21b-90cbb969f3e0"
      },
      "execution_count": 13,
      "outputs": [
        {
          "output_type": "execute_result",
          "data": {
            "text/plain": [
              "array([[4.6644666e-09, 1.8140497e-06, 1.0765226e-06, ..., 9.9999428e-01,\n",
              "        6.9295254e-07, 7.6207476e-07],\n",
              "       [3.4576082e-05, 1.3969640e-05, 9.9992657e-01, ..., 5.3119031e-10,\n",
              "        2.0961977e-05, 3.0363143e-11],\n",
              "       [1.3446802e-06, 9.9976391e-01, 1.5127103e-05, ..., 7.6148601e-05,\n",
              "        8.0988510e-05, 6.2147529e-07],\n",
              "       ...,\n",
              "       [1.2981778e-09, 6.1741997e-07, 3.6928022e-08, ..., 9.8482333e-06,\n",
              "        1.0385274e-05, 1.2079738e-06],\n",
              "       [7.7763274e-05, 5.8476309e-07, 2.1437163e-06, ..., 4.6213984e-09,\n",
              "        2.1710888e-01, 1.4864222e-06],\n",
              "       [2.6115358e-05, 6.1305116e-08, 2.1215687e-05, ..., 1.3004544e-09,\n",
              "        2.0393531e-05, 1.0458742e-08]], dtype=float32)"
            ]
          },
          "metadata": {},
          "execution_count": 13
        }
      ]
    }
  ]
}