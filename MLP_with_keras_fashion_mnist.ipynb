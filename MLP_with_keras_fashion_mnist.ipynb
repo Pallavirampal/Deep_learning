{
  "nbformat": 4,
  "nbformat_minor": 0,
  "metadata": {
    "colab": {
      "name": "MLP_with_keras_fashion_mnist.ipynb",
      "provenance": [],
      "authorship_tag": "ABX9TyNi+FwjDWC8+nLqWWiZR/mm",
      "include_colab_link": true
    },
    "kernelspec": {
      "name": "python3",
      "display_name": "Python 3"
    },
    "language_info": {
      "name": "python"
    }
  },
  "cells": [
    {
      "cell_type": "markdown",
      "metadata": {
        "id": "view-in-github",
        "colab_type": "text"
      },
      "source": [
        "<a href=\"https://colab.research.google.com/github/Pallavirampal/Deep_learning/blob/main/MLP_with_keras_fashion_mnist.ipynb\" target=\"_parent\"><img src=\"https://colab.research.google.com/assets/colab-badge.svg\" alt=\"Open In Colab\"/></a>"
      ]
    },
    {
      "cell_type": "code",
      "source": [
        "import tensorflow as tf\n",
        "import numpy as np\n",
        "mnist = tf.keras.datasets.mnist\n",
        "(x_train_full,y_train_full),(x_test,y_test) = mnist.load_data()"
      ],
      "metadata": {
        "id": "7jhtWM0ly77W"
      },
      "execution_count": null,
      "outputs": []
    },
    {
      "cell_type": "code",
      "source": [
        "# class_names = [\"t-shirt/top\",\"trouser\",\"pullover\",\"dress\",\"coat\",\"sandal\",\"shirt\",\"sneaker\",\"bag\",\"ankle boot\"]"
      ],
      "metadata": {
        "id": "ch7qGnbRz4gD"
      },
      "execution_count": null,
      "outputs": []
    },
    {
      "cell_type": "code",
      "source": [
        "x_valid,x_train = x_train_full[:5000]/255.0,x_train_full[5000:]/255.0\n",
        "y_valid,y_train = y_train_full[:5000]/255.0,y_train_full[5000:]/255.0"
      ],
      "metadata": {
        "id": "MaSR_H7BzSvY"
      },
      "execution_count": null,
      "outputs": []
    },
    {
      "cell_type": "code",
      "source": [
        "import keras\n",
        "from keras.models import Sequential\n",
        "model = Sequential()\n",
        "model.add(keras.layers.Flatten(input_shape =[28,28]))\n",
        "model.add(keras.layers.Dense(300,activation =\"relu\"))\n",
        "model.add(keras.layers.Dense(100,activation =\"relu\")) \n",
        "model.add(keras.layers.Dense(10,activation =\"softmax\"))"
      ],
      "metadata": {
        "id": "PUqvbBcG1ODu"
      },
      "execution_count": null,
      "outputs": []
    },
    {
      "cell_type": "code",
      "source": [
        "model.layers"
      ],
      "metadata": {
        "colab": {
          "base_uri": "https://localhost:8080/"
        },
        "id": "IszhNbil2J0W",
        "outputId": "4055bd0e-4ffb-4353-b261-882e398f08bb"
      },
      "execution_count": null,
      "outputs": [
        {
          "output_type": "execute_result",
          "data": {
            "text/plain": [
              "[<keras.layers.core.flatten.Flatten at 0x7f4d81a8da50>,\n",
              " <keras.layers.core.dense.Dense at 0x7f4d81a89cd0>,\n",
              " <keras.layers.core.dense.Dense at 0x7f4d7e57e490>,\n",
              " <keras.layers.core.dense.Dense at 0x7f4d81a85a50>]"
            ]
          },
          "metadata": {},
          "execution_count": 43
        }
      ]
    },
    {
      "cell_type": "code",
      "source": [
        "model.compile(loss = \"sparse_categorical_crossentropy\",optimizer = \"sgd\",metrics = [\"accuracy\"])"
      ],
      "metadata": {
        "id": "hh2eMBmR4Agw"
      },
      "execution_count": null,
      "outputs": []
    },
    {
      "cell_type": "code",
      "source": [
        "history = model.fit(x_train,y_train,epochs=30,validation_data = (x_valid,y_valid))\n"
      ],
      "metadata": {
        "colab": {
          "base_uri": "https://localhost:8080/"
        },
        "id": "nV579t_c4R8Q",
        "outputId": "c884c4d6-600b-41c4-e0fa-b4e6596d5d72"
      },
      "execution_count": null,
      "outputs": [
        {
          "output_type": "stream",
          "name": "stdout",
          "text": [
            "Epoch 1/30\n",
            "1719/1719 [==============================] - 6s 3ms/step - loss: 0.0189 - accuracy: 0.0989 - val_loss: 6.1284e-04 - val_accuracy: 0.0958\n",
            "Epoch 2/30\n",
            "1719/1719 [==============================] - 5s 3ms/step - loss: 4.5142e-04 - accuracy: 0.0990 - val_loss: 2.7929e-04 - val_accuracy: 0.0958\n",
            "Epoch 3/30\n",
            "1719/1719 [==============================] - 5s 3ms/step - loss: 2.4965e-04 - accuracy: 0.0990 - val_loss: 1.7714e-04 - val_accuracy: 0.0958\n",
            "Epoch 4/30\n",
            "1719/1719 [==============================] - 5s 3ms/step - loss: 1.7159e-04 - accuracy: 0.0990 - val_loss: 1.2850e-04 - val_accuracy: 0.0958\n",
            "Epoch 5/30\n",
            "1719/1719 [==============================] - 5s 3ms/step - loss: 1.3020e-04 - accuracy: 0.0990 - val_loss: 1.0020e-04 - val_accuracy: 0.0958\n",
            "Epoch 6/30\n",
            "1719/1719 [==============================] - 5s 3ms/step - loss: 1.0459e-04 - accuracy: 0.0990 - val_loss: 8.1812e-05 - val_accuracy: 0.0958\n",
            "Epoch 7/30\n",
            "1719/1719 [==============================] - 5s 3ms/step - loss: 8.7240e-05 - accuracy: 0.0990 - val_loss: 6.8961e-05 - val_accuracy: 0.0958\n",
            "Epoch 8/30\n",
            "1719/1719 [==============================] - 6s 3ms/step - loss: 7.4733e-05 - accuracy: 0.0990 - val_loss: 5.9479e-05 - val_accuracy: 0.0958\n",
            "Epoch 9/30\n",
            "1719/1719 [==============================] - 6s 3ms/step - loss: 6.5291e-05 - accuracy: 0.0990 - val_loss: 5.2213e-05 - val_accuracy: 0.0958\n",
            "Epoch 10/30\n",
            "1719/1719 [==============================] - 6s 3ms/step - loss: 5.7924e-05 - accuracy: 0.0990 - val_loss: 4.6476e-05 - val_accuracy: 0.0958\n",
            "Epoch 11/30\n",
            "1719/1719 [==============================] - 5s 3ms/step - loss: 5.2016e-05 - accuracy: 0.0990 - val_loss: 4.1830e-05 - val_accuracy: 0.0958\n",
            "Epoch 12/30\n",
            "1719/1719 [==============================] - 6s 3ms/step - loss: 4.7175e-05 - accuracy: 0.0990 - val_loss: 3.8000e-05 - val_accuracy: 0.0958\n",
            "Epoch 13/30\n",
            "1719/1719 [==============================] - 6s 3ms/step - loss: 4.3142e-05 - accuracy: 0.0990 - val_loss: 3.4791e-05 - val_accuracy: 0.0958\n",
            "Epoch 14/30\n",
            "1719/1719 [==============================] - 6s 3ms/step - loss: 3.9728e-05 - accuracy: 0.0990 - val_loss: 3.2061e-05 - val_accuracy: 0.0958\n",
            "Epoch 15/30\n",
            "1719/1719 [==============================] - 6s 3ms/step - loss: 3.6803e-05 - accuracy: 0.0990 - val_loss: 2.9713e-05 - val_accuracy: 0.0958\n",
            "Epoch 16/30\n",
            "1719/1719 [==============================] - 6s 3ms/step - loss: 3.4269e-05 - accuracy: 0.0990 - val_loss: 2.7675e-05 - val_accuracy: 0.0958\n",
            "Epoch 17/30\n",
            "1719/1719 [==============================] - 6s 3ms/step - loss: 3.2054e-05 - accuracy: 0.0990 - val_loss: 2.5889e-05 - val_accuracy: 0.0958\n",
            "Epoch 18/30\n",
            "1719/1719 [==============================] - 6s 3ms/step - loss: 3.0103e-05 - accuracy: 0.0990 - val_loss: 2.4309e-05 - val_accuracy: 0.0958\n",
            "Epoch 19/30\n",
            "1719/1719 [==============================] - 6s 3ms/step - loss: 2.8370e-05 - accuracy: 0.0990 - val_loss: 2.2906e-05 - val_accuracy: 0.0958\n",
            "Epoch 20/30\n",
            "1719/1719 [==============================] - 6s 4ms/step - loss: 2.6822e-05 - accuracy: 0.0990 - val_loss: 2.1651e-05 - val_accuracy: 0.0958\n",
            "Epoch 21/30\n",
            "1719/1719 [==============================] - 6s 3ms/step - loss: 2.5430e-05 - accuracy: 0.0990 - val_loss: 2.0520e-05 - val_accuracy: 0.0958\n",
            "Epoch 22/30\n",
            "1719/1719 [==============================] - 6s 4ms/step - loss: 2.4172e-05 - accuracy: 0.0990 - val_loss: 1.9498e-05 - val_accuracy: 0.0958\n",
            "Epoch 23/30\n",
            "1719/1719 [==============================] - 6s 3ms/step - loss: 2.3031e-05 - accuracy: 0.0990 - val_loss: 1.8570e-05 - val_accuracy: 0.0958\n",
            "Epoch 24/30\n",
            "1719/1719 [==============================] - 6s 3ms/step - loss: 2.1990e-05 - accuracy: 0.0990 - val_loss: 1.7721e-05 - val_accuracy: 0.0958\n",
            "Epoch 25/30\n",
            "1719/1719 [==============================] - 6s 3ms/step - loss: 2.1036e-05 - accuracy: 0.0990 - val_loss: 1.6946e-05 - val_accuracy: 0.0958\n",
            "Epoch 26/30\n",
            "1719/1719 [==============================] - 6s 3ms/step - loss: 2.0161e-05 - accuracy: 0.0990 - val_loss: 1.6233e-05 - val_accuracy: 0.0958\n",
            "Epoch 27/30\n",
            "1719/1719 [==============================] - 6s 3ms/step - loss: 1.9355e-05 - accuracy: 0.0990 - val_loss: 1.5576e-05 - val_accuracy: 0.0958\n",
            "Epoch 28/30\n",
            "1719/1719 [==============================] - 6s 3ms/step - loss: 1.8609e-05 - accuracy: 0.0990 - val_loss: 1.4968e-05 - val_accuracy: 0.0958\n",
            "Epoch 29/30\n",
            "1719/1719 [==============================] - 6s 3ms/step - loss: 1.7917e-05 - accuracy: 0.0990 - val_loss: 1.4402e-05 - val_accuracy: 0.0958\n",
            "Epoch 30/30\n",
            "1719/1719 [==============================] - 6s 3ms/step - loss: 1.7274e-05 - accuracy: 0.0990 - val_loss: 1.3878e-05 - val_accuracy: 0.0958\n"
          ]
        }
      ]
    },
    {
      "cell_type": "code",
      "source": [
        "import pandas as pd\n",
        "import matplotlib.pyplot as plt\n",
        "pd.DataFrame(history.history).plot(figsize=(8,5))\n",
        "plt.grid(True)\n",
        "plt.gca().set_ylim(0,1)\n",
        "plt.show"
      ],
      "metadata": {
        "colab": {
          "base_uri": "https://localhost:8080/",
          "height": 341
        },
        "id": "tqBXBeNT5AEk",
        "outputId": "c6f43e99-7d15-4a48-a4c2-3d5da8d08a0d"
      },
      "execution_count": null,
      "outputs": [
        {
          "output_type": "execute_result",
          "data": {
            "text/plain": [
              "<function matplotlib.pyplot.show>"
            ]
          },
          "metadata": {},
          "execution_count": 49
        },
        {
          "output_type": "display_data",
          "data": {
            "text/plain": [
              "<Figure size 576x360 with 1 Axes>"
            ],
            "image/png": "[encoded data removed]"
          },
          "metadata": {
            "needs_background": "light"
          }
        }
      ]
    },
    {
      "cell_type": "code",
      "source": [
        ""
      ],
      "metadata": {
        "id": "NAlVOp5K-Uhp"
      },
      "execution_count": null,
      "outputs": []
    }
  ]
}